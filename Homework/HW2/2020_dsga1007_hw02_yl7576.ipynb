{
 "cells": [
  {
   "cell_type": "markdown",
   "metadata": {
    "id": "zX6o3qFXZRl3"
   },
   "source": [
    "--- \n",
    "\n",
    "### 2020 FALL\n",
    "### DSGA1007\n",
    "\n",
    "--- \n",
    "\n",
    "### HW02\n",
    "### Due Date: 2020-10-08, 5PM"
   ]
  },
  {
   "cell_type": "markdown",
   "metadata": {
    "id": "ht1fdpxGZRl4"
   },
   "source": [
    "Firstname: Yuhan\n",
    "\n",
    "Lastname: Liu\n",
    "\n",
    "E-mail: yl7576@nyu.edu\n",
    "\n",
    "\n",
    "--- \n",
    "\n",
    "Enter your solutions below,  and submit this notebook"
   ]
  },
  {
   "cell_type": "markdown",
   "metadata": {
    "id": "oU7ckB7KZRl5"
   },
   "source": [
    "### Problem 01 (10 points):\n",
    "\n",
    "1. 1 (5 points) Write a function that iteratively calculates factorial $n!$ of an integer $n \\geq 0$, where $n!=1 \\cdot 2 \\cdot \\dots \\cdot n$. Evaluate the function for $n=10$.\n",
    "\n",
    "\n",
    "1. 2 (5 points) Write a function that recursively calculates factorial $n!$ of an integer $n \\geq 0$, where $n!=1 \\cdot 2 \\cdot \\dots \\cdot n$. Evaluate the function for $n=10$.\n"
   ]
  },
  {
   "cell_type": "code",
   "execution_count": 2,
   "metadata": {
    "colab": {
     "base_uri": "https://localhost:8080/"
    },
    "id": "NHI7atloZbe1",
    "outputId": "a06bc3e5-8149-49b4-c71c-8f2bc98a807a"
   },
   "outputs": [
    {
     "data": {
      "text/plain": [
       "3628800"
      ]
     },
     "execution_count": 2,
     "metadata": {
      "tags": []
     },
     "output_type": "execute_result"
    }
   ],
   "source": [
    "# 1.1 \n",
    "def ite_fac(n):\n",
    "  if (n==0):\n",
    "    return 0\n",
    "  res=1\n",
    "  for i in range(1,n+1):\n",
    "    res=res*i\n",
    "  return res\n",
    "\n",
    "ite_fac(10)"
   ]
  },
  {
   "cell_type": "code",
   "execution_count": 4,
   "metadata": {
    "colab": {
     "base_uri": "https://localhost:8080/"
    },
    "id": "d7xJzgazaGrV",
    "outputId": "0a049cc3-b23b-4986-aa07-c592cca719d8"
   },
   "outputs": [
    {
     "data": {
      "text/plain": [
       "3628800"
      ]
     },
     "execution_count": 4,
     "metadata": {
      "tags": []
     },
     "output_type": "execute_result"
    }
   ],
   "source": [
    "# 1.2\n",
    "def rec_fac(n):\n",
    "  if(n==0):\n",
    "    return 0\n",
    "  if(n==1):\n",
    "    return 1\n",
    "  return rec_fac(n-1)*n\n",
    "\n",
    "rec_fac(10)"
   ]
  },
  {
   "cell_type": "markdown",
   "metadata": {
    "id": "fZmi_b99ZRl6"
   },
   "source": [
    "### Problem 02 (50 points)\n",
    "\n",
    "Let $M$ be a real quadratic matrix, that is, the number of rows and columns are the same. \n",
    "\n",
    "2.1 (20 points) Write a function that *recursively* calculates the power of matrix to the exponent $k$ (by the definition of the matrix multiplication). Here $k \\geq 0$ is an integer.\n",
    "\n",
    "```def matrix_mult_rec(M, k):\n",
    "    return M_to_power\n",
    "```    \n",
    "    \n",
    "\n",
    "2.2 (10 points) What is the number of calls, that is, how many times the function has been called for $k=100$?\n",
    "\n",
    "2.3 (15 points) Given the same question as one in 2.2, what is the answer for a general input $k$?\n",
    "\n",
    "2.4. (5 points) What is the answer for `M=np.ones((5, 5))` and `k=5`?"
   ]
  },
  {
   "cell_type": "code",
   "execution_count": 2,
   "metadata": {
    "id": "OjSp1Y5Dakcy"
   },
   "outputs": [],
   "source": [
    "# 2.1 \n",
    "import numpy as np\n",
    "def matrix_mult_rec(M, k):\n",
    "  if(k==1):\n",
    "    return M\n",
    "  return matrix_mult_rec(M, k-1).dot(M)"
   ]
  },
  {
   "cell_type": "code",
   "execution_count": 3,
   "metadata": {
    "id": "TNG4pu3wbvjz"
   },
   "outputs": [],
   "source": [
    "# 2.2\n",
    "# 100 times"
   ]
  },
  {
   "cell_type": "code",
   "execution_count": 4,
   "metadata": {
    "id": "DN85RqN4b_z0"
   },
   "outputs": [],
   "source": [
    "# 2.3\n",
    "# k times "
   ]
  },
  {
   "cell_type": "code",
   "execution_count": 5,
   "metadata": {
    "colab": {
     "base_uri": "https://localhost:8080/"
    },
    "id": "4aNraCHgcIB4",
    "outputId": "0167c139-bb7c-4b73-af82-0da1e5c50fff"
   },
   "outputs": [
    {
     "data": {
      "text/plain": [
       "array([[625., 625., 625., 625., 625.],\n",
       "       [625., 625., 625., 625., 625.],\n",
       "       [625., 625., 625., 625., 625.],\n",
       "       [625., 625., 625., 625., 625.],\n",
       "       [625., 625., 625., 625., 625.]])"
      ]
     },
     "execution_count": 5,
     "metadata": {},
     "output_type": "execute_result"
    }
   ],
   "source": [
    "matrix_mult_rec(np.ones((5,5)), 5)"
   ]
  },
  {
   "cell_type": "markdown",
   "metadata": {
    "id": "ZBFV8vLFZRl7"
   },
   "source": [
    "### Problem 03 (20 points):\n",
    "\n",
    "3.1 (5 points) Write a function that performs a bubble sort. \n",
    "\n",
    "3.2 (5 points) Write a function that performs a merge sort. \n",
    "\n",
    "3.3 (5 points) Generate a random numpy array $a$, of length $n=10000$, where each component is a random number independently and uniformly generated from the interval $[0, 1]$. \n",
    "\n",
    "3.4 (5 points) Estimate the run-times and print the difference when applied the functions from 3.1 and 3.2 on the array $a$. To estimate the run-times you can use the following part: "
   ]
  },
  {
   "cell_type": "code",
   "execution_count": 40,
   "metadata": {
    "id": "PM8MYWDwd4L_"
   },
   "outputs": [],
   "source": [
    "# 3.1\n",
    "def bubble_sort(arr):\n",
    "  for i in range(0, len(arr)-1):\n",
    "    for j in range(i+1, len(arr)):\n",
    "        if arr[i]>arr[j]:\n",
    "          arr[i], arr[j] = arr[j], arr[i]\n",
    "  return arr\n"
   ]
  },
  {
   "cell_type": "code",
   "execution_count": 41,
   "metadata": {
    "id": "27UDYQdmeldI"
   },
   "outputs": [],
   "source": [
    "# 3.2\n",
    "def merge_sort(arr):\n",
    "    if len(arr)<=1:\n",
    "      return arr\n",
    "    mid = len(arr)//2 \n",
    "    L = arr[:mid] \n",
    "    R = arr[mid:] \n",
    "  \n",
    "    L=merge_sort(L) \n",
    "    R=merge_sort(R) \n",
    "    return merge(L,R)\n",
    "    \n",
    "def merge(L, R):\n",
    "    i = j = 0\n",
    "    arr=[]       \n",
    "    while i < len(L) and j < len(R): \n",
    "        if L[i] <= R[j]: \n",
    "            arr.append(L[i])\n",
    "            i = i+1\n",
    "        else: \n",
    "            arr.append(R[j])\n",
    "            j = j+1\n",
    "\n",
    "    \n",
    "    while i < len(L): \n",
    "        arr.append(L[i])\n",
    "        i = i+1\n",
    "\n",
    "            \n",
    "    while j < len(R): \n",
    "        arr.append(R[j]) \n",
    "        j = j+1\n",
    "    return arr\n"
   ]
  },
  {
   "cell_type": "code",
   "execution_count": 43,
   "metadata": {
    "colab": {
     "base_uri": "https://localhost:8080/"
    },
    "id": "fLimEHRFkEzX",
    "outputId": "67c809d8-6e3c-4c0f-e5cb-d8865e24b8cb"
   },
   "outputs": [
    {
     "data": {
      "text/plain": [
       "array([0.40273052, 0.9706466 , 0.96981253, ..., 0.19019097, 0.24267082,\n",
       "       0.12079753])"
      ]
     },
     "execution_count": 43,
     "metadata": {
      "tags": []
     },
     "output_type": "execute_result"
    }
   ],
   "source": [
    "# 3.3\n",
    "a = np.random.random(10000)\n",
    "a"
   ]
  },
  {
   "cell_type": "code",
   "execution_count": 46,
   "metadata": {
    "colab": {
     "base_uri": "https://localhost:8080/"
    },
    "id": "e4xYQ6vwkfH2",
    "outputId": "0892a079-5043-4908-9411-d78736682e14"
   },
   "outputs": [
    {
     "name": "stdout",
     "output_type": "stream",
     "text": [
      "Bubble Sort Time: --- 15.923856019973755 seconds ---\n",
      "Merge Sort Time: --- 0.04323291778564453 seconds ---\n",
      "Time Difference: --- 15.88062310218811 seconds ---\n"
     ]
    }
   ],
   "source": [
    "import time\n",
    "\n",
    "start_time_1 = time.time()\n",
    "bubble_sort(a)\n",
    "total_time_1 = time.time() - start_time_1\n",
    "\n",
    "print(\"Bubble Sort Time: --- %s seconds ---\" % (total_time_1))\n",
    "\n",
    "start_time_2 = time.time()\n",
    "merge_sort(a)\n",
    "total_time_2 = time.time() - start_time_2\n",
    "print(\"Merge Sort Time: --- %s seconds ---\" % (total_time_2))\n",
    "\n",
    "print(\"Time Difference: --- %s seconds ---\" % (total_time_1-total_time_2))"
   ]
  },
  {
   "cell_type": "markdown",
   "metadata": {
    "id": "cBU-CFsXZRl9"
   },
   "source": [
    "\n",
    "### Problem 04 (20 points)\n"
   ]
  },
  {
   "cell_type": "markdown",
   "metadata": {
    "id": "8HTcJtEnZRl-"
   },
   "source": [
    "The provided file 'nba2020.csv' contains the schedules and information of the NBA games for 2020. Using the unix commands, covered in Lecture04, write scripts which will display:\n",
    "    \n",
    "4.1 (5 points) a unique list of NBA teams, provided in the file;\n",
    "\n",
    "4.2 (5 points) the number of those NBA teams;\n",
    "\n",
    "4.3 (5 points) a unique list of the times -- provided in the file -- when the NBA matches were played;\n",
    "\n",
    "4.4 (5 points) the number of these unique times."
   ]
  },
  {
   "cell_type": "code",
   "execution_count": 49,
   "metadata": {
    "id": "5DHZIqnYmSNd"
   },
   "outputs": [
    {
     "name": "stdout",
     "output_type": "stream",
     "text": [
      "Atlanta Hawks\r\n",
      "Boston Celtics\r\n",
      "Brooklyn Nets\r\n",
      "Charlotte Hornets\r\n",
      "Chicago Bulls\r\n",
      "Cleveland Cavaliers\r\n",
      "Dallas Mavericks\r\n",
      "Denver Nuggets\r\n",
      "Detroit Pistons\r\n",
      "Golden State Warriors\r\n",
      "Houston Rockets\r\n",
      "Indiana Pacers\r\n",
      "Los Angeles Clippers\r\n",
      "Los Angeles Lakers\r\n",
      "Memphis Grizzlies\r\n",
      "Miami Heat\r\n",
      "Milwaukee Bucks\r\n",
      "Minnesota Timberwolves\r\n",
      "New Orleans Pelicans\r\n",
      "New York Knicks\r\n",
      "Oklahoma City Thunder\r\n",
      "Orlando Magic\r\n",
      "Philadelphia 76ers\r\n",
      "Phoenix Suns\r\n",
      "Portland Trail Blazers\r\n",
      "Sacramento Kings\r\n",
      "San Antonio Spurs\r\n",
      "Toronto Raptors\r\n",
      "Utah Jazz\r\n",
      "Washington Wizards\r\n"
     ]
    }
   ],
   "source": [
    "#4.1\n",
    "#!cd /Users/yuhanliu/Desktop/1007/HW2\n",
    "!tail -n+2 nba2020.csv | cut -d \",\" -f 3 | sort | uniq \n"
   ]
  },
  {
   "cell_type": "code",
   "execution_count": 51,
   "metadata": {
    "scrolled": true
   },
   "outputs": [
    {
     "name": "stdout",
     "output_type": "stream",
     "text": [
      "      30\r\n"
     ]
    }
   ],
   "source": [
    "#4.2\n",
    "!tail -n+2 nba2020.csv | cut -d \",\" -f3 | sort | uniq | wc -l"
   ]
  },
  {
   "cell_type": "code",
   "execution_count": 52,
   "metadata": {
    "scrolled": true
   },
   "outputs": [
    {
     "name": "stdout",
     "output_type": "stream",
     "text": [
      "\r\n",
      "10:00p\r\n",
      "10:30p\r\n",
      "3:30p\r\n",
      "5:00p\r\n",
      "6:00p\r\n",
      "7:00p\r\n",
      "7:30p\r\n",
      "8:00p\r\n",
      "8:30p\r\n",
      "9:00p\r\n",
      "9:30p\r\n"
     ]
    }
   ],
   "source": [
    "#4.3\n",
    "!tail -n+2 nba2020.csv | cut -d \",\" -f 2 | sort | uniq \n",
    "#!cut -d \",\" -f3 nba2020.csv | sort | uniq -c | sort -nr | awk '{print $1}'| sort | uniq "
   ]
  },
  {
   "cell_type": "code",
   "execution_count": 58,
   "metadata": {},
   "outputs": [
    {
     "name": "stdout",
     "output_type": "stream",
     "text": [
      "      12\r\n"
     ]
    }
   ],
   "source": [
    "#4.3\n",
    "# if empty line is also a unique time\n",
    "!tail -n+2 nba2020.csv | cut -d \",\" -f2 | sort | uniq | wc -l"
   ]
  },
  {
   "cell_type": "markdown",
   "metadata": {
    "id": "koJCgCIxZRl_"
   },
   "source": [
    "**Important:** to skip the header of file you can use: \n",
    "    \n",
    "`!tail -n+2 nba2020.csv`\n",
    "\n",
    "\n",
    "Since,\n",
    "\n",
    "``-n, --lines=[+]NUM       output the last NUM lines, instead of the last 10;\n",
    "                             or use -n +NUM to output starting with line NUM``\n",
    "        "
   ]
  }
 ],
 "metadata": {
  "colab": {
   "name": "2020_dsga1007_hw02.ipynb",
   "provenance": []
  },
  "kernelspec": {
   "display_name": "Python 3",
   "language": "python",
   "name": "python3"
  },
  "language_info": {
   "codemirror_mode": {
    "name": "ipython",
    "version": 3
   },
   "file_extension": ".py",
   "mimetype": "text/x-python",
   "name": "python",
   "nbconvert_exporter": "python",
   "pygments_lexer": "ipython3",
   "version": "3.8.3"
  }
 },
 "nbformat": 4,
 "nbformat_minor": 1
}
